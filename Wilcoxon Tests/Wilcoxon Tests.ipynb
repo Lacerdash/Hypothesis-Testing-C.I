{
 "cells": [
  {
   "cell_type": "markdown",
   "metadata": {},
   "source": [
    "# **Wilcoxon Tests**\n",
    "\n",
    "Wilcoxon tests are a family of non-parametric statistical tests that make fewer assumptions than their parametric counterparts, such as the paired t-test and the [two-sample t-test](https://github.com/Lacerdash/Hypothesis-Testing-Confidence-Interval/tree/main/Two-sample%20t-test). The two most commonly used Wilcoxon tests are:\n",
    "1. Wilcoxon Rank-Sum Test (Mann-Whitney U test)\n",
    "2. Wilcoxon Signed-Rank Test\n",
    "\n",
    "### **1. Wilcoxon Signed-Rank Test**\n",
    "\n",
    "Used to compare two dependent (paired) groups to assess wheater their population statistics (mean, median, etc) ranks sum differ.\n",
    "\n",
    "It works by taking the difference between the pairs of measurements, ranking these differences, and then analyzing the ranks.\n",
    "\n",
    "\n",
    "#### **Assumptions:**\n",
    "\n",
    "  - Data is continuos and ordinal (so that they can be ranked)\n",
    "  - Observations are independent\n",
    "\n",
    "\n",
    "### **2. Wilcoxon Rank-Sum Test (Mann-Whitney U test)**\n",
    "\n",
    "This test is used to compare two related or paired groups to assess whether their population mean ranks differ.\n",
    "\n",
    "It works by ranking all observations from both groups together and then comparing the sum of ranks between the two groups with the $H0$ (that their ranks sum are the same).\n",
    "\n",
    "#### **Assumptions:**\n",
    "\n",
    "  - Data is continuos and ordinal (so that they can be ranked)\n",
    "  - Observations are independent\n",
    "\n",
    "### **Drawbacks:**\n",
    "1. Both tests do not provide an estimation of the magnitude of the difference (e.g., a confidence interval for the difference in medians), only whether the difference is statistically significant or not.\n",
    "\n",
    "2. The power of these tests (the probability of correctly rejecting the null hypothesis when it is false) is generally less than that of the corresponding parametric tests when the parametric test assumptions are met.2"
   ]
  },
  {
   "cell_type": "code",
   "execution_count": 2,
   "metadata": {},
   "outputs": [],
   "source": [
    "# Importing Libraries\n",
    "from scipy import stats as stat\n",
    "from sklearn import datasets\n",
    "import numpy as np\n",
    "import pandas as pd\n",
    "\n",
    "import matplotlib.pyplot as plt\n",
    "import seaborn as sns"
   ]
  },
  {
   "cell_type": "markdown",
   "metadata": {},
   "source": [
    "### **``Wilcoxon Singned-Rank Test``**\n",
    "\n",
    "**Hypothesy:** Virginica sepal length (cm) median is different than versicolor sepal length (cm) median\n",
    "\n",
    "- $H_0$: The median difference between the pairs of measurements is zero.\n",
    "- $H_A$: The median difference between the pairs of measurements is not zero.\n",
    "\n",
    "**Result:** Reject $H_0$\n",
    "\n",
    "**Interpretation:** The test shows that the median difference between the paired measurements of sepal lengths for Virginica and Versicolor is significantly different from zero. Since the median of the before treatment is higher than the after treatment, we can infer that the treatment had an effect on the disease level."
   ]
  },
  {
   "cell_type": "code",
   "execution_count": 3,
   "metadata": {},
   "outputs": [],
   "source": [
    "# Simulating the data\n",
    "np.random.seed(0)\n",
    "before_treatment = np.random.normal(loc=10, scale=1, size=30)\n",
    "after_treatment = before_treatment + np.random.normal(loc=-0.5, scale=1, size=30)"
   ]
  },
  {
   "cell_type": "code",
   "execution_count": 4,
   "metadata": {},
   "outputs": [
    {
     "data": {
      "image/png": "[encoded data removed]",
      "text/plain": [
       "<Figure size 1000x500 with 1 Axes>"
      ]
     },
     "metadata": {},
     "output_type": "display_data"
    }
   ],
   "source": [
    "# Visualizing the paired data\n",
    "plt.figure(figsize=(10,5))\n",
    "plt.boxplot([before_treatment, after_treatment], labels=['before','after'])\n",
    "plt.title('Before and after Distribution of disease', size= 25, fontweight = 'bold', loc = 'left', pad = 20)\n",
    "plt.ylabel('Disease level')\n",
    "\n",
    "plt.show()"
   ]
  },
  {
   "cell_type": "code",
   "execution_count": 5,
   "metadata": {},
   "outputs": [
    {
     "name": "stdout",
     "output_type": "stream",
     "text": [
      "t Statistics: 50.0\n",
      "p-value: 5.5925920605659485e-05\n"
     ]
    }
   ],
   "source": [
    "from scipy.stats import wilcoxon\n",
    "\n",
    "# Performing the Wilcoxon signed-rank test\n",
    "t_stat, p_value = wilcoxon(before_treatment, after_treatment, alternative='two-sided')\n",
    "\n",
    "print('t Statistics:', t_stat)\n",
    "print('p-value:', p_value)"
   ]
  },
  {
   "cell_type": "markdown",
   "metadata": {},
   "source": [
    "### **``Wilcoxon Rank-Sum Test``**"
   ]
  },
  {
   "cell_type": "markdown",
   "metadata": {},
   "source": [
    "#### **Loading and Visualizing the data**"
   ]
  },
  {
   "cell_type": "code",
   "execution_count": 6,
   "metadata": {},
   "outputs": [
    {
     "data": {
      "text/plain": [
       "dict_keys(['data', 'target', 'frame', 'target_names', 'DESCR', 'feature_names', 'filename', 'data_module'])"
      ]
     },
     "execution_count": 6,
     "metadata": {},
     "output_type": "execute_result"
    }
   ],
   "source": [
    "iris_data = datasets.load_iris()\n",
    "iris_data.keys()"
   ]
  },
  {
   "cell_type": "code",
   "execution_count": 7,
   "metadata": {},
   "outputs": [
    {
     "data": {
      "text/html": [
       "<div>\n",
       "<style scoped>\n",
       "    .dataframe tbody tr th:only-of-type {\n",
       "        vertical-align: middle;\n",
       "    }\n",
       "\n",
       "    .dataframe tbody tr th {\n",
       "        vertical-align: top;\n",
       "    }\n",
       "\n",
       "    .dataframe thead th {\n",
       "        text-align: right;\n",
       "    }\n",
       "</style>\n",
       "<table border=\"1\" class=\"dataframe\">\n",
       "  <thead>\n",
       "    <tr style=\"text-align: right;\">\n",
       "      <th></th>\n",
       "      <th>sepal length (cm)</th>\n",
       "      <th>target</th>\n",
       "    </tr>\n",
       "  </thead>\n",
       "  <tbody>\n",
       "    <tr>\n",
       "      <th>0</th>\n",
       "      <td>5.1</td>\n",
       "      <td>Setosa</td>\n",
       "    </tr>\n",
       "    <tr>\n",
       "      <th>1</th>\n",
       "      <td>4.9</td>\n",
       "      <td>Setosa</td>\n",
       "    </tr>\n",
       "    <tr>\n",
       "      <th>2</th>\n",
       "      <td>4.7</td>\n",
       "      <td>Setosa</td>\n",
       "    </tr>\n",
       "    <tr>\n",
       "      <th>3</th>\n",
       "      <td>4.6</td>\n",
       "      <td>Setosa</td>\n",
       "    </tr>\n",
       "    <tr>\n",
       "      <th>4</th>\n",
       "      <td>5.0</td>\n",
       "      <td>Setosa</td>\n",
       "    </tr>\n",
       "  </tbody>\n",
       "</table>\n",
       "</div>"
      ],
      "text/plain": [
       "   sepal length (cm)  target\n",
       "0                5.1  Setosa\n",
       "1                4.9  Setosa\n",
       "2                4.7  Setosa\n",
       "3                4.6  Setosa\n",
       "4                5.0  Setosa"
      ]
     },
     "execution_count": 7,
     "metadata": {},
     "output_type": "execute_result"
    }
   ],
   "source": [
    "target_dict = {0 : 'Setosa', 1 : \"versicolor\", 2 : \"virginica\"}\n",
    "\n",
    "data = pd.DataFrame(data = iris_data.data, columns = iris_data.feature_names)\n",
    "data['target'] = iris_data.target\n",
    "data['target'] = data['target'].replace(target_dict)\n",
    "data = data.drop(columns = ['sepal width (cm)', 'petal length (cm)', 'petal width (cm)'] )\n",
    "data.head()"
   ]
  },
  {
   "cell_type": "code",
   "execution_count": 8,
   "metadata": {},
   "outputs": [
    {
     "data": {
      "text/html": [
       "<div>\n",
       "<style scoped>\n",
       "    .dataframe tbody tr th:only-of-type {\n",
       "        vertical-align: middle;\n",
       "    }\n",
       "\n",
       "    .dataframe tbody tr th {\n",
       "        vertical-align: top;\n",
       "    }\n",
       "\n",
       "    .dataframe thead tr th {\n",
       "        text-align: left;\n",
       "    }\n",
       "\n",
       "    .dataframe thead tr:last-of-type th {\n",
       "        text-align: right;\n",
       "    }\n",
       "</style>\n",
       "<table border=\"1\" class=\"dataframe\">\n",
       "  <thead>\n",
       "    <tr>\n",
       "      <th></th>\n",
       "      <th colspan=\"2\" halign=\"left\">sepal length (cm)</th>\n",
       "    </tr>\n",
       "    <tr>\n",
       "      <th></th>\n",
       "      <th>mean</th>\n",
       "      <th>median</th>\n",
       "    </tr>\n",
       "    <tr>\n",
       "      <th>target</th>\n",
       "      <th></th>\n",
       "      <th></th>\n",
       "    </tr>\n",
       "  </thead>\n",
       "  <tbody>\n",
       "    <tr>\n",
       "      <th>Setosa</th>\n",
       "      <td>5.006</td>\n",
       "      <td>5.0</td>\n",
       "    </tr>\n",
       "    <tr>\n",
       "      <th>versicolor</th>\n",
       "      <td>5.936</td>\n",
       "      <td>5.9</td>\n",
       "    </tr>\n",
       "    <tr>\n",
       "      <th>virginica</th>\n",
       "      <td>6.588</td>\n",
       "      <td>6.5</td>\n",
       "    </tr>\n",
       "  </tbody>\n",
       "</table>\n",
       "</div>"
      ],
      "text/plain": [
       "           sepal length (cm)       \n",
       "                        mean median\n",
       "target                             \n",
       "Setosa                 5.006    5.0\n",
       "versicolor             5.936    5.9\n",
       "virginica              6.588    6.5"
      ]
     },
     "execution_count": 8,
     "metadata": {},
     "output_type": "execute_result"
    }
   ],
   "source": [
    "data.groupby('target').agg(['mean', 'median'])"
   ]
  },
  {
   "cell_type": "code",
   "execution_count": 9,
   "metadata": {},
   "outputs": [
    {
     "data": {
      "image/png": "[encoded data removed]",
      "text/plain": [
       "<Figure size 1000x500 with 1 Axes>"
      ]
     },
     "metadata": {},
     "output_type": "display_data"
    }
   ],
   "source": [
    "plt.figure(figsize=(10,5))\n",
    "\n",
    "sns.boxplot(data = data,  x = 'target', y= 'sepal length (cm)', color = 'orange')\n",
    "\n",
    "plt.title('Sepal length boxplot by species', size= 25, fontweight = 'bold', loc = 'left', pad = 20)\n",
    "plt.ylabel('Sepal length (cm)', size= 12)\n",
    "plt.xlabel('Species', size= 12)\n",
    "\n",
    "plt.show()"
   ]
  },
  {
   "cell_type": "markdown",
   "metadata": {},
   "source": [
    "#### **Wilcoxon Rank-Sum Test**\n",
    "\n",
    "**Hypothesy:** Virginica sepal length (cm) median is different than versicolor sepal length (cm) median\n",
    "\n",
    "- $H_0$: The medians of the two populations are equal.\n",
    "- $H_A$: The medians of the two populations are not equal.\n",
    "\n",
    "**Result:** Reject $H_0$\n",
    "\n",
    "**Interpretation:** The median of virginica and versicolor sepal legnth are significantly different. In this case, the virginica has a higher median than the versicolor"
   ]
  },
  {
   "cell_type": "code",
   "execution_count": 10,
   "metadata": {},
   "outputs": [],
   "source": [
    "# Separating the data\n",
    "virginica = data[data['target'] == 'virginica']['sepal length (cm)']\n",
    "versicolor = data[data['target'] == 'versicolor']['sepal length (cm)']"
   ]
  },
  {
   "cell_type": "code",
   "execution_count": 11,
   "metadata": {},
   "outputs": [
    {
     "name": "stdout",
     "output_type": "stream",
     "text": [
      "(50, 50)\n"
     ]
    }
   ],
   "source": [
    "print(f'{len(virginica), len(versicolor)}')"
   ]
  },
  {
   "cell_type": "code",
   "execution_count": 12,
   "metadata": {},
   "outputs": [],
   "source": [
    "from scipy.stats import ranksums, mannwhitneyu"
   ]
  },
  {
   "cell_type": "code",
   "execution_count": 13,
   "metadata": {},
   "outputs": [
    {
     "name": "stdout",
     "output_type": "stream",
     "text": [
      "t Statistics: 4.99112558983095\n",
      "p-value: 6.002844932496881e-07\n"
     ]
    }
   ],
   "source": [
    "t_stat, p_value = ranksums(virginica, versicolor, alternative='two-sided')\n",
    "\n",
    "print('t Statistics:', t_stat)\n",
    "print('p-value:', p_value)"
   ]
  },
  {
   "cell_type": "code",
   "execution_count": 14,
   "metadata": {},
   "outputs": [
    {
     "name": "stdout",
     "output_type": "stream",
     "text": [
      "t Statistics: 1974.0\n",
      "p-value: 5.869006410664197e-07\n"
     ]
    }
   ],
   "source": [
    "t_stat, p_value = mannwhitneyu(virginica, versicolor, alternative='two-sided')\n",
    "\n",
    "print('t Statistics:', t_stat)\n",
    "print('p-value:', p_value)"
   ]
  }
 ],
 "metadata": {
  "kernelspec": {
   "display_name": "base",
   "language": "python",
   "name": "python3"
  },
  "language_info": {
   "codemirror_mode": {
    "name": "ipython",
    "version": 3
   },
   "file_extension": ".py",
   "mimetype": "text/x-python",
   "name": "python",
   "nbconvert_exporter": "python",
   "pygments_lexer": "ipython3",
   "version": "3.9.13"
  },
  "orig_nbformat": 4
 },
 "nbformat": 4,
 "nbformat_minor": 2
}
